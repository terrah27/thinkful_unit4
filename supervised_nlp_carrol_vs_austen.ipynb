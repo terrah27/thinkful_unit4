{
 "cells": [
  {
   "cell_type": "code",
   "execution_count": 1,
   "metadata": {
    "run_control": {
     "frozen": false,
     "read_only": false
    }
   },
   "outputs": [],
   "source": [
    "import numpy as np # linear algebra\n",
    "import pandas as pd # data processing, CSV file I/O (e.g. pd.read_csv)\n",
    "import seaborn as sns\n",
    "import matplotlib.pyplot as plt\n",
    "import spacy\n",
    "import nltk\n",
    "from wordcloud import WordCloud\n",
    "from IPython.display import display\n",
    "import base64\n",
    "import string\n",
    "import re\n",
    "from collections import Counter\n",
    "from time import time\n",
    "# from sklearn.feature_extraction.stop_words import ENGLISH_STOP_WORDS as stopwords\n",
    "from nltk.corpus import stopwords\n",
    "from sklearn.metrics import log_loss\n",
    "\n",
    "\n",
    "stopwords = stopwords.words('english')\n",
    "sns.set_context('notebook')\n",
    "from nltk.corpus import gutenberg, stopwords\n",
    "from collections import Counter\n",
    "\n",
    "np.random.seed(27)"
   ]
  },
  {
   "cell_type": "code",
   "execution_count": 2,
   "metadata": {},
   "outputs": [],
   "source": [
    "plt.rcParams['figure.figsize'] = [20.0, 7.0]\n",
    "plt.rcParams.update({'font.size': 22})\n",
    "\n",
    "sns.set_palette('bright')\n",
    "sns.set_style('whitegrid')\n",
    "sns.set_context('talk')"
   ]
  },
  {
   "cell_type": "code",
   "execution_count": 3,
   "metadata": {},
   "outputs": [],
   "source": [
    "# Load and clean the data.\n",
    "persuasion = gutenberg.raw('austen-persuasion.txt')\n",
    "alice = gutenberg.raw('carroll-alice.txt')\n",
    "emma = gutenberg.raw('austen-emma.txt')"
   ]
  },
  {
   "cell_type": "code",
   "execution_count": 4,
   "metadata": {},
   "outputs": [],
   "source": [
    "# Utility function for standard text cleaning.\n",
    "def text_cleaner(text):\n",
    "    # Visual inspection identifies a form of punctuation spaCy does not\n",
    "    # recognize: the double dash '--'.  Better get rid of it now!\n",
    "    text = re.sub(r'--',' ',text)\n",
    "    text = re.sub(\"[\\[].*?[\\]]\", \"\", text)\n",
    "    text = ' '.join(text.split())\n",
    "    return text\n",
    "    \n",
    "# The Chapter indicator is idiosyncratic\n",
    "persuasion = re.sub(r'Chapter \\d+', '', persuasion)\n",
    "alice = re.sub(r'CHAPTER .*', '', alice)\n",
    "emma = re.sub(r'CHAPTER .*', '', emma)\n",
    "emma = re.sub(r'VOLUME \\w+', '', emma)\n",
    "    \n",
    "alice = text_cleaner(alice)\n",
    "persuasion = text_cleaner(persuasion)\n",
    "emma = text_cleaner(emma)"
   ]
  },
  {
   "cell_type": "code",
   "execution_count": 5,
   "metadata": {},
   "outputs": [],
   "source": [
    "# Parse the cleaned novels.\n",
    "nlp = spacy.load('en')\n",
    "\n",
    "alice_doc = nlp(alice)\n",
    "persuasion_doc = nlp(persuasion)\n",
    "emma_doc = nlp(emma)"
   ]
  },
  {
   "cell_type": "code",
   "execution_count": 6,
   "metadata": {},
   "outputs": [],
   "source": [
    "# Group into sentences.\n",
    "alice_sents = [[sent, 'Alice', 'Carrol'] for sent in nltk.sent_tokenize(alice)]\n",
    "persuasion_sents = [[sent, 'Persuasion', \"Austen\"] for sent in nltk.sent_tokenize(persuasion)]\n",
    "emma_sents = [[sent, 'Emma', \"Austen\"] for sent in nltk.sent_tokenize(emma)]"
   ]
  },
  {
   "cell_type": "code",
   "execution_count": 46,
   "metadata": {},
   "outputs": [
    {
     "data": {
      "text/html": [
       "<div>\n",
       "<style scoped>\n",
       "    .dataframe tbody tr th:only-of-type {\n",
       "        vertical-align: middle;\n",
       "    }\n",
       "\n",
       "    .dataframe tbody tr th {\n",
       "        vertical-align: top;\n",
       "    }\n",
       "\n",
       "    .dataframe thead th {\n",
       "        text-align: right;\n",
       "    }\n",
       "</style>\n",
       "<table border=\"1\" class=\"dataframe\">\n",
       "  <thead>\n",
       "    <tr style=\"text-align: right;\">\n",
       "      <th></th>\n",
       "      <th>Sentence</th>\n",
       "      <th>Text</th>\n",
       "      <th>Author</th>\n",
       "    </tr>\n",
       "  </thead>\n",
       "  <tbody>\n",
       "    <tr>\n",
       "      <th>5808</th>\n",
       "      <td>I think her the very worst sort of companion t...</td>\n",
       "      <td>Emma</td>\n",
       "      <td>Austen</td>\n",
       "    </tr>\n",
       "    <tr>\n",
       "      <th>11152</th>\n",
       "      <td>said she, with a conscious look.</td>\n",
       "      <td>Emma</td>\n",
       "      <td>Austen</td>\n",
       "    </tr>\n",
       "    <tr>\n",
       "      <th>10061</th>\n",
       "      <td>You will laugh at my warmth but, upon my word,...</td>\n",
       "      <td>Emma</td>\n",
       "      <td>Austen</td>\n",
       "    </tr>\n",
       "    <tr>\n",
       "      <th>5956</th>\n",
       "      <td>I could not help being provoked; for after all...</td>\n",
       "      <td>Emma</td>\n",
       "      <td>Austen</td>\n",
       "    </tr>\n",
       "    <tr>\n",
       "      <th>6682</th>\n",
       "      <td>I wonder which she will think the handsomest, ...</td>\n",
       "      <td>Emma</td>\n",
       "      <td>Austen</td>\n",
       "    </tr>\n",
       "  </tbody>\n",
       "</table>\n",
       "</div>"
      ],
      "text/plain": [
       "                                                Sentence  Text  Author\n",
       "5808   I think her the very worst sort of companion t...  Emma  Austen\n",
       "11152                   said she, with a conscious look.  Emma  Austen\n",
       "10061  You will laugh at my warmth but, upon my word,...  Emma  Austen\n",
       "5956   I could not help being provoked; for after all...  Emma  Austen\n",
       "6682   I wonder which she will think the handsomest, ...  Emma  Austen"
      ]
     },
     "execution_count": 46,
     "metadata": {},
     "output_type": "execute_result"
    }
   ],
   "source": [
    "# Combine the sentences from the two novels into one data frame.\n",
    "sentences = pd.DataFrame(alice_sents + persuasion_sents + emma_sents, columns=['Sentence', 'Text', 'Author'])\n",
    "sentences.sample(5)"
   ]
  },
  {
   "cell_type": "code",
   "execution_count": 29,
   "metadata": {},
   "outputs": [
    {
     "data": {
      "text/plain": [
       "Austen    12360\n",
       "Carrol     1625\n",
       "Name: Author, dtype: int64"
      ]
     },
     "execution_count": 29,
     "metadata": {},
     "output_type": "execute_result"
    }
   ],
   "source": [
    "sentences.Author.value_counts()"
   ]
  },
  {
   "cell_type": "code",
   "execution_count": 30,
   "metadata": {},
   "outputs": [
    {
     "data": {
      "text/plain": [
       "Emma          8703\n",
       "Persuasion    3657\n",
       "Alice         1625\n",
       "Name: Text, dtype: int64"
      ]
     },
     "execution_count": 30,
     "metadata": {},
     "output_type": "execute_result"
    }
   ],
   "source": [
    "sentences.Text.value_counts()"
   ]
  },
  {
   "cell_type": "code",
   "execution_count": 8,
   "metadata": {},
   "outputs": [
    {
     "data": {
      "image/png": "[encoded data removed]",
      "text/plain": [
       "<Figure size 1440x504 with 3 Axes>"
      ]
     },
     "metadata": {},
     "output_type": "display_data"
    }
   ],
   "source": [
    "fig, ax = plt.subplots()\n",
    "\n",
    "fig.add_subplot(121)\n",
    "sns.countplot(sentences.Text)\n",
    "\n",
    "fig.add_subplot(122)\n",
    "sns.countplot(sentences.Author)\n",
    "\n",
    "ax.set_xticklabels('')\n",
    "plt.ylabel('')\n",
    "ax.set_yticklabels('')\n",
    "\n",
    "sns.despine(left=True, bottom=True)\n",
    "\n",
    "plt.show();"
   ]
  },
  {
   "cell_type": "code",
   "execution_count": 9,
   "metadata": {},
   "outputs": [],
   "source": [
    "# Clean text before feeding it to spaCy\n",
    "punctuations = string.punctuation\n",
    "\n",
    "stop_words = set(stopwords.words(\"english\"))\n",
    "\n",
    "# Define function to cleanup text by removing personal pronouns, stopwords, and puncuation\n",
    "def cleanup_text(docs, logging=False):\n",
    "    texts = []\n",
    "    counter = 1\n",
    "    for doc in docs:\n",
    "        if counter % 1000 == 0 and logging:\n",
    "            print(\"Processed %d out of %d documents.\" % (counter, len(docs)))\n",
    "        counter += 1\n",
    "        doc = nlp(doc, disable=['ner'])\n",
    "        tokens = [tok.lemma_.lower().strip() for tok in doc if tok.lemma_ != '-PRON-']\n",
    "        tokens = [tok for tok in tokens if tok not in stop_words and tok not in punctuations]\n",
    "        tokens = ' '.join(tokens)\n",
    "        texts.append(tokens)\n",
    "    return pd.Series(texts)"
   ]
  },
  {
   "cell_type": "code",
   "execution_count": 10,
   "metadata": {},
   "outputs": [],
   "source": [
    "# Grab all text associated with Alice\n",
    "alice_text = [text for text in sentences[sentences['Text'] == 'Alice']['Sentence']]\n",
    "\n",
    "# Grab all text associated with Persuasion\n",
    "persuasion_text = [text for text in sentences[sentences['Text'] == 'Persuasion']['Sentence']]\n",
    "\n",
    "# Grab all text associated with Emma\n",
    "emma_text = [text for text in sentences[sentences['Text'] == 'Emma']['Sentence']]"
   ]
  },
  {
   "cell_type": "code",
   "execution_count": 11,
   "metadata": {},
   "outputs": [],
   "source": [
    "# Clean up all text\n",
    "alice_clean = cleanup_text(alice_text)\n",
    "alice_clean = ' '.join(alice_clean).split()\n",
    "# 's appears a lot in the text, so we get rid of it since it's not a word\n",
    "alice_clean = [word for word in alice_clean if word != '\\'s']\n",
    "\n",
    "persuasion_clean = cleanup_text(persuasion_text)\n",
    "persuasion_clean = ' '.join(persuasion_clean).split()\n",
    "# 's appears a lot in the text, so we get rid of it since it's not a word\n",
    "persuasion_clean = [word for word in persuasion_clean if word != '\\'s']\n",
    "\n",
    "emma_clean = cleanup_text(emma_text)\n",
    "emma_clean = ' '.join(emma_clean).split()\n",
    "# 's appears a lot in the text, so we get rid of it since it's not a word\n",
    "emma_clean = [word for word in emma_clean if word != '\\'s']"
   ]
  },
  {
   "cell_type": "code",
   "execution_count": 12,
   "metadata": {},
   "outputs": [],
   "source": [
    "# Count all unique words\n",
    "alice_counts = Counter(alice_clean)\n",
    "persuasion_counts = Counter(persuasion_clean)\n",
    "emma_counts = Counter(emma_clean)"
   ]
  },
  {
   "cell_type": "code",
   "execution_count": 13,
   "metadata": {},
   "outputs": [
    {
     "data": {
      "image/png": "[encoded data removed]",
      "text/plain": [
       "<Figure size 1440x504 with 1 Axes>"
      ]
     },
     "metadata": {},
     "output_type": "display_data"
    }
   ],
   "source": [
    "alice_common_words = [word[0] for word in alice_counts.most_common(20)]\n",
    "alice_common_counts = [word[1] for word in alice_counts.most_common(20)]\n",
    "\n",
    "sns.barplot(alice_common_words, alice_common_counts);"
   ]
  },
  {
   "cell_type": "code",
   "execution_count": 14,
   "metadata": {},
   "outputs": [
    {
     "data": {
      "image/png": "[encoded data removed]",
      "text/plain": [
       "<Figure size 1440x504 with 1 Axes>"
      ]
     },
     "metadata": {},
     "output_type": "display_data"
    }
   ],
   "source": [
    "persuasion_common_words = [word[0] for word in persuasion_counts.most_common(20)]\n",
    "persuasion_common_counts = [word[1] for word in persuasion_counts.most_common(20)]\n",
    "\n",
    "sns.barplot(persuasion_common_words, persuasion_common_counts);"
   ]
  },
  {
   "cell_type": "code",
   "execution_count": 15,
   "metadata": {},
   "outputs": [
    {
     "data": {
      "image/png": "[encoded data removed]",
      "text/plain": [
       "<Figure size 1440x504 with 1 Axes>"
      ]
     },
     "metadata": {},
     "output_type": "display_data"
    }
   ],
   "source": [
    "emma_common_words = [word[0] for word in emma_counts.most_common(20)]\n",
    "emma_common_counts = [word[1] for word in emma_counts.most_common(20)]\n",
    "\n",
    "sns.barplot(emma_common_words, emma_common_counts);"
   ]
  },
  {
   "cell_type": "code",
   "execution_count": 16,
   "metadata": {},
   "outputs": [
    {
     "name": "stdout",
     "output_type": "stream",
     "text": [
      "Processed 1000 out of 13985 documents.\n",
      "Processed 2000 out of 13985 documents.\n",
      "Processed 3000 out of 13985 documents.\n",
      "Processed 4000 out of 13985 documents.\n",
      "Processed 5000 out of 13985 documents.\n",
      "Processed 6000 out of 13985 documents.\n",
      "Processed 7000 out of 13985 documents.\n",
      "Processed 8000 out of 13985 documents.\n",
      "Processed 9000 out of 13985 documents.\n",
      "Processed 10000 out of 13985 documents.\n",
      "Processed 11000 out of 13985 documents.\n",
      "Processed 12000 out of 13985 documents.\n",
      "Processed 13000 out of 13985 documents.\n"
     ]
    }
   ],
   "source": [
    "sentences['Sentence'] = cleanup_text(sentences['Sentence'], logging=True)"
   ]
  },
  {
   "cell_type": "code",
   "execution_count": 17,
   "metadata": {},
   "outputs": [
    {
     "data": {
      "text/html": [
       "<div>\n",
       "<style scoped>\n",
       "    .dataframe tbody tr th:only-of-type {\n",
       "        vertical-align: middle;\n",
       "    }\n",
       "\n",
       "    .dataframe tbody tr th {\n",
       "        vertical-align: top;\n",
       "    }\n",
       "\n",
       "    .dataframe thead th {\n",
       "        text-align: right;\n",
       "    }\n",
       "</style>\n",
       "<table border=\"1\" class=\"dataframe\">\n",
       "  <thead>\n",
       "    <tr style=\"text-align: right;\">\n",
       "      <th></th>\n",
       "      <th>Sentence</th>\n",
       "      <th>Text</th>\n",
       "      <th>Author</th>\n",
       "    </tr>\n",
       "  </thead>\n",
       "  <tbody>\n",
       "    <tr>\n",
       "      <th>0</th>\n",
       "      <td>alice begin get tired sit sister bank nothing ...</td>\n",
       "      <td>Alice</td>\n",
       "      <td>Carrol</td>\n",
       "    </tr>\n",
       "    <tr>\n",
       "      <th>1</th>\n",
       "      <td>consider mind well could hot day make feel sle...</td>\n",
       "      <td>Alice</td>\n",
       "      <td>Carrol</td>\n",
       "    </tr>\n",
       "    <tr>\n",
       "      <th>2</th>\n",
       "      <td>nothing remarkable alice think much way hear r...</td>\n",
       "      <td>Alice</td>\n",
       "      <td>Carrol</td>\n",
       "    </tr>\n",
       "    <tr>\n",
       "      <th>3</th>\n",
       "      <td>oh dear</td>\n",
       "      <td>Alice</td>\n",
       "      <td>Carrol</td>\n",
       "    </tr>\n",
       "    <tr>\n",
       "      <th>4</th>\n",
       "      <td>shall late</td>\n",
       "      <td>Alice</td>\n",
       "      <td>Carrol</td>\n",
       "    </tr>\n",
       "  </tbody>\n",
       "</table>\n",
       "</div>"
      ],
      "text/plain": [
       "                                            Sentence   Text  Author\n",
       "0  alice begin get tired sit sister bank nothing ...  Alice  Carrol\n",
       "1  consider mind well could hot day make feel sle...  Alice  Carrol\n",
       "2  nothing remarkable alice think much way hear r...  Alice  Carrol\n",
       "3                                            oh dear  Alice  Carrol\n",
       "4                                         shall late  Alice  Carrol"
      ]
     },
     "execution_count": 17,
     "metadata": {},
     "output_type": "execute_result"
    }
   ],
   "source": [
    "sentences.head()"
   ]
  },
  {
   "cell_type": "code",
   "execution_count": 18,
   "metadata": {},
   "outputs": [
    {
     "name": "stdout",
     "output_type": "stream",
     "text": [
      "Parsing documents...\n",
      "Total time passed parsing documents: 24.56984305381775 seconds\n",
      "Total number of documents parsed: 13985\n"
     ]
    },
    {
     "data": {
      "text/html": [
       "<div>\n",
       "<style scoped>\n",
       "    .dataframe tbody tr th:only-of-type {\n",
       "        vertical-align: middle;\n",
       "    }\n",
       "\n",
       "    .dataframe tbody tr th {\n",
       "        vertical-align: top;\n",
       "    }\n",
       "\n",
       "    .dataframe thead th {\n",
       "        text-align: right;\n",
       "    }\n",
       "</style>\n",
       "<table border=\"1\" class=\"dataframe\">\n",
       "  <thead>\n",
       "    <tr style=\"text-align: right;\">\n",
       "      <th></th>\n",
       "      <th>Sentence</th>\n",
       "      <th>Text</th>\n",
       "      <th>Author</th>\n",
       "    </tr>\n",
       "  </thead>\n",
       "  <tbody>\n",
       "    <tr>\n",
       "      <th>0</th>\n",
       "      <td>alice begin get tired sit sister bank nothing ...</td>\n",
       "      <td>Alice</td>\n",
       "      <td>Carrol</td>\n",
       "    </tr>\n",
       "    <tr>\n",
       "      <th>1</th>\n",
       "      <td>consider mind well could hot day make feel sle...</td>\n",
       "      <td>Alice</td>\n",
       "      <td>Carrol</td>\n",
       "    </tr>\n",
       "    <tr>\n",
       "      <th>2</th>\n",
       "      <td>nothing remarkable alice think much way hear r...</td>\n",
       "      <td>Alice</td>\n",
       "      <td>Carrol</td>\n",
       "    </tr>\n",
       "    <tr>\n",
       "      <th>3</th>\n",
       "      <td>oh dear</td>\n",
       "      <td>Alice</td>\n",
       "      <td>Carrol</td>\n",
       "    </tr>\n",
       "    <tr>\n",
       "      <th>4</th>\n",
       "      <td>shall late</td>\n",
       "      <td>Alice</td>\n",
       "      <td>Carrol</td>\n",
       "    </tr>\n",
       "  </tbody>\n",
       "</table>\n",
       "</div>"
      ],
      "text/plain": [
       "                                            Sentence   Text  Author\n",
       "0  alice begin get tired sit sister bank nothing ...  Alice  Carrol\n",
       "1  consider mind well could hot day make feel sle...  Alice  Carrol\n",
       "2  nothing remarkable alice think much way hear r...  Alice  Carrol\n",
       "3                                            oh dear  Alice  Carrol\n",
       "4                                         shall late  Alice  Carrol"
      ]
     },
     "execution_count": 18,
     "metadata": {},
     "output_type": "execute_result"
    }
   ],
   "source": [
    "# Parse documents and print some info\n",
    "print('Parsing documents...')\n",
    "\n",
    "start = time()\n",
    "\n",
    "train_vec = []\n",
    "for doc in nlp.pipe(sentences['Sentence'], batch_size=500):\n",
    "    if doc.has_vector:\n",
    "        train_vec.append(doc.vector)\n",
    "    # If doc doesn't have a vector, then fill it with zeros.\n",
    "    else:\n",
    "        train_vec.append(np.zeros((128,), dtype=\"float32\"))\n",
    "        \n",
    "\n",
    "#sentences['sentence_vec'] = train_vec\n",
    "vector = np.array(train_vec)\n",
    "end = time()\n",
    "print('Total time passed parsing documents: {} seconds'.format(end - start))\n",
    "print('Total number of documents parsed: {}'.format(len(train_vec)))\n",
    "\n",
    "sentences.head()"
   ]
  },
  {
   "cell_type": "code",
   "execution_count": 19,
   "metadata": {},
   "outputs": [
    {
     "data": {
      "text/plain": [
       "(13985, 128)"
      ]
     },
     "execution_count": 19,
     "metadata": {},
     "output_type": "execute_result"
    }
   ],
   "source": [
    "vector.shape"
   ]
  },
  {
   "cell_type": "code",
   "execution_count": 20,
   "metadata": {},
   "outputs": [
    {
     "data": {
      "text/html": [
       "<div>\n",
       "<style scoped>\n",
       "    .dataframe tbody tr th:only-of-type {\n",
       "        vertical-align: middle;\n",
       "    }\n",
       "\n",
       "    .dataframe tbody tr th {\n",
       "        vertical-align: top;\n",
       "    }\n",
       "\n",
       "    .dataframe thead th {\n",
       "        text-align: right;\n",
       "    }\n",
       "</style>\n",
       "<table border=\"1\" class=\"dataframe\">\n",
       "  <thead>\n",
       "    <tr style=\"text-align: right;\">\n",
       "      <th></th>\n",
       "      <th>0</th>\n",
       "      <th>1</th>\n",
       "      <th>2</th>\n",
       "      <th>3</th>\n",
       "      <th>4</th>\n",
       "      <th>5</th>\n",
       "      <th>6</th>\n",
       "      <th>7</th>\n",
       "      <th>8</th>\n",
       "      <th>9</th>\n",
       "      <th>...</th>\n",
       "      <th>118</th>\n",
       "      <th>119</th>\n",
       "      <th>120</th>\n",
       "      <th>121</th>\n",
       "      <th>122</th>\n",
       "      <th>123</th>\n",
       "      <th>124</th>\n",
       "      <th>125</th>\n",
       "      <th>126</th>\n",
       "      <th>127</th>\n",
       "    </tr>\n",
       "  </thead>\n",
       "  <tbody>\n",
       "    <tr>\n",
       "      <th>0</th>\n",
       "      <td>0.985106</td>\n",
       "      <td>0.283589</td>\n",
       "      <td>0.789392</td>\n",
       "      <td>1.005349</td>\n",
       "      <td>0.323456</td>\n",
       "      <td>0.590381</td>\n",
       "      <td>-3.007998</td>\n",
       "      <td>-0.433441</td>\n",
       "      <td>1.219401</td>\n",
       "      <td>0.804422</td>\n",
       "      <td>...</td>\n",
       "      <td>1.748973</td>\n",
       "      <td>0.736352</td>\n",
       "      <td>1.176759</td>\n",
       "      <td>-0.201412</td>\n",
       "      <td>1.332310</td>\n",
       "      <td>0.959739</td>\n",
       "      <td>2.291510</td>\n",
       "      <td>-1.203328</td>\n",
       "      <td>1.995070</td>\n",
       "      <td>-2.454606</td>\n",
       "    </tr>\n",
       "    <tr>\n",
       "      <th>1</th>\n",
       "      <td>0.824024</td>\n",
       "      <td>-0.017829</td>\n",
       "      <td>0.458632</td>\n",
       "      <td>0.894168</td>\n",
       "      <td>0.015317</td>\n",
       "      <td>0.586833</td>\n",
       "      <td>-1.825552</td>\n",
       "      <td>-0.144942</td>\n",
       "      <td>0.764444</td>\n",
       "      <td>0.699600</td>\n",
       "      <td>...</td>\n",
       "      <td>1.671695</td>\n",
       "      <td>-0.013963</td>\n",
       "      <td>1.372033</td>\n",
       "      <td>0.080689</td>\n",
       "      <td>1.702708</td>\n",
       "      <td>-0.214233</td>\n",
       "      <td>0.812344</td>\n",
       "      <td>-0.722838</td>\n",
       "      <td>1.578433</td>\n",
       "      <td>-1.533563</td>\n",
       "    </tr>\n",
       "    <tr>\n",
       "      <th>2</th>\n",
       "      <td>-0.277408</td>\n",
       "      <td>0.258219</td>\n",
       "      <td>1.229327</td>\n",
       "      <td>0.146081</td>\n",
       "      <td>0.069124</td>\n",
       "      <td>0.585479</td>\n",
       "      <td>-1.723399</td>\n",
       "      <td>0.555170</td>\n",
       "      <td>0.047979</td>\n",
       "      <td>1.036819</td>\n",
       "      <td>...</td>\n",
       "      <td>0.672791</td>\n",
       "      <td>-0.039413</td>\n",
       "      <td>2.379755</td>\n",
       "      <td>0.659325</td>\n",
       "      <td>1.647708</td>\n",
       "      <td>0.660287</td>\n",
       "      <td>1.826175</td>\n",
       "      <td>-0.525239</td>\n",
       "      <td>1.430477</td>\n",
       "      <td>-1.425846</td>\n",
       "    </tr>\n",
       "    <tr>\n",
       "      <th>3</th>\n",
       "      <td>-1.288907</td>\n",
       "      <td>-0.592735</td>\n",
       "      <td>-0.386497</td>\n",
       "      <td>1.396173</td>\n",
       "      <td>-0.007671</td>\n",
       "      <td>1.139815</td>\n",
       "      <td>-0.396110</td>\n",
       "      <td>3.687816</td>\n",
       "      <td>-0.208923</td>\n",
       "      <td>1.519778</td>\n",
       "      <td>...</td>\n",
       "      <td>0.139092</td>\n",
       "      <td>-1.922554</td>\n",
       "      <td>3.067594</td>\n",
       "      <td>-0.912898</td>\n",
       "      <td>0.290471</td>\n",
       "      <td>0.716767</td>\n",
       "      <td>0.420478</td>\n",
       "      <td>1.095417</td>\n",
       "      <td>0.018182</td>\n",
       "      <td>1.046853</td>\n",
       "    </tr>\n",
       "    <tr>\n",
       "      <th>4</th>\n",
       "      <td>0.438130</td>\n",
       "      <td>0.648610</td>\n",
       "      <td>-0.734902</td>\n",
       "      <td>-0.072902</td>\n",
       "      <td>-1.963023</td>\n",
       "      <td>1.025945</td>\n",
       "      <td>-0.974629</td>\n",
       "      <td>1.619319</td>\n",
       "      <td>1.889651</td>\n",
       "      <td>1.522309</td>\n",
       "      <td>...</td>\n",
       "      <td>1.248711</td>\n",
       "      <td>-1.406428</td>\n",
       "      <td>-1.488199</td>\n",
       "      <td>1.643352</td>\n",
       "      <td>2.238344</td>\n",
       "      <td>-1.882067</td>\n",
       "      <td>-0.793130</td>\n",
       "      <td>0.755059</td>\n",
       "      <td>-0.054361</td>\n",
       "      <td>-0.211128</td>\n",
       "    </tr>\n",
       "  </tbody>\n",
       "</table>\n",
       "<p>5 rows × 128 columns</p>\n",
       "</div>"
      ],
      "text/plain": [
       "        0         1         2         3         4         5         6    \\\n",
       "0  0.985106  0.283589  0.789392  1.005349  0.323456  0.590381 -3.007998   \n",
       "1  0.824024 -0.017829  0.458632  0.894168  0.015317  0.586833 -1.825552   \n",
       "2 -0.277408  0.258219  1.229327  0.146081  0.069124  0.585479 -1.723399   \n",
       "3 -1.288907 -0.592735 -0.386497  1.396173 -0.007671  1.139815 -0.396110   \n",
       "4  0.438130  0.648610 -0.734902 -0.072902 -1.963023  1.025945 -0.974629   \n",
       "\n",
       "        7         8         9      ...          118       119       120  \\\n",
       "0 -0.433441  1.219401  0.804422    ...     1.748973  0.736352  1.176759   \n",
       "1 -0.144942  0.764444  0.699600    ...     1.671695 -0.013963  1.372033   \n",
       "2  0.555170  0.047979  1.036819    ...     0.672791 -0.039413  2.379755   \n",
       "3  3.687816 -0.208923  1.519778    ...     0.139092 -1.922554  3.067594   \n",
       "4  1.619319  1.889651  1.522309    ...     1.248711 -1.406428 -1.488199   \n",
       "\n",
       "        121       122       123       124       125       126       127  \n",
       "0 -0.201412  1.332310  0.959739  2.291510 -1.203328  1.995070 -2.454606  \n",
       "1  0.080689  1.702708 -0.214233  0.812344 -0.722838  1.578433 -1.533563  \n",
       "2  0.659325  1.647708  0.660287  1.826175 -0.525239  1.430477 -1.425846  \n",
       "3 -0.912898  0.290471  0.716767  0.420478  1.095417  0.018182  1.046853  \n",
       "4  1.643352  2.238344 -1.882067 -0.793130  0.755059 -0.054361 -0.211128  \n",
       "\n",
       "[5 rows x 128 columns]"
      ]
     },
     "execution_count": 20,
     "metadata": {},
     "output_type": "execute_result"
    }
   ],
   "source": [
    "vector_df = pd.DataFrame(vector)\n",
    "vector_df.head()"
   ]
  },
  {
   "cell_type": "code",
   "execution_count": 21,
   "metadata": {},
   "outputs": [],
   "source": [
    "from sklearn.preprocessing import label_binarize\n",
    "\n",
    "hot_authors = label_binarize(sentences['Author'], classes=['Carrol', 'Austen'])\n",
    "hot_books = label_binarize(sentences['Text'], classes=['Alice', 'Persuasion', 'Emma'])"
   ]
  },
  {
   "cell_type": "code",
   "execution_count": 24,
   "metadata": {},
   "outputs": [],
   "source": [
    "from sklearn.model_selection import train_test_split\n",
    "\n",
    "X_train_authors, X_test_authors, y_train_authors, y_test_authors = train_test_split(vector_df, hot_authors, test_size=0.2)"
   ]
  },
  {
   "cell_type": "code",
   "execution_count": 25,
   "metadata": {},
   "outputs": [
    {
     "name": "stderr",
     "output_type": "stream",
     "text": [
      "/usr/local/lib/python3.6/site-packages/ipykernel_launcher.py:5: DataConversionWarning: A column-vector y was passed when a 1d array was expected. Please change the shape of y to (n_samples,), for example using ravel().\n",
      "  \"\"\"\n"
     ]
    },
    {
     "name": "stdout",
     "output_type": "stream",
     "text": [
      "Training set score: 0.9896317483017518\n",
      "\n",
      "Test set score: 0.8880943868430461\n"
     ]
    }
   ],
   "source": [
    "from sklearn import ensemble\n",
    "\n",
    "rfc = ensemble.RandomForestClassifier()\n",
    "\n",
    "train_authors = rfc.fit(X_train_authors, y_train_authors)\n",
    "\n",
    "print('Training set score:', rfc.score(X_train_authors, y_train_authors))\n",
    "print('\\nTest set score:', rfc.score(X_test_authors, y_test_authors))"
   ]
  },
  {
   "cell_type": "markdown",
   "metadata": {},
   "source": [
    "It looks like the model is overfitting.  Let's see if we try balancing the classes if we can increase our accuracy."
   ]
  },
  {
   "cell_type": "code",
   "execution_count": 57,
   "metadata": {},
   "outputs": [
    {
     "data": {
      "text/plain": [
       "Austen    12360\n",
       "Carrol     1625\n",
       "Name: Author, dtype: int64"
      ]
     },
     "execution_count": 57,
     "metadata": {},
     "output_type": "execute_result"
    }
   ],
   "source": [
    "sentences.Author.value_counts()"
   ]
  },
  {
   "cell_type": "code",
   "execution_count": 58,
   "metadata": {},
   "outputs": [
    {
     "data": {
      "text/plain": [
       "Austen    12360\n",
       "Carrol    12360\n",
       "Name: Author, dtype: int64"
      ]
     },
     "execution_count": 58,
     "metadata": {},
     "output_type": "execute_result"
    }
   ],
   "source": [
    "## upsampling minority class\n",
    "from sklearn.utils import resample\n",
    "\n",
    "carrol = sentences[sentences.Author == 'Carrol']\n",
    "austen = sentences[sentences.Author == 'Austen']\n",
    "\n",
    "# upsample minority\n",
    "authors_upsampled = resample(carrol,\n",
    "                                replace = True, # sample with replacement\n",
    "                                n_samples = 12360, # match majority n\n",
    "                                random_state = 27) # reproducible results\n",
    "\n",
    "# combine majority and upsampled minority\n",
    "upsampled = pd.concat([authors_upsampled, austen])\n",
    "\n",
    "# checking counts\n",
    "upsampled.Author.value_counts()"
   ]
  },
  {
   "cell_type": "code",
   "execution_count": 59,
   "metadata": {},
   "outputs": [],
   "source": [
    "hot_authors_upsampled = label_binarize(upsampled['Author'], classes=['Carrol', 'Austen'])"
   ]
  },
  {
   "cell_type": "code",
   "execution_count": 64,
   "metadata": {},
   "outputs": [
    {
     "name": "stdout",
     "output_type": "stream",
     "text": [
      "Parsing documents...\n",
      "Total time passed parsing documents: 103.6523129940033 seconds\n",
      "Total number of documents parsed: 24720\n",
      "(24720, 128)\n"
     ]
    },
    {
     "data": {
      "text/html": [
       "<div>\n",
       "<style scoped>\n",
       "    .dataframe tbody tr th:only-of-type {\n",
       "        vertical-align: middle;\n",
       "    }\n",
       "\n",
       "    .dataframe tbody tr th {\n",
       "        vertical-align: top;\n",
       "    }\n",
       "\n",
       "    .dataframe thead th {\n",
       "        text-align: right;\n",
       "    }\n",
       "</style>\n",
       "<table border=\"1\" class=\"dataframe\">\n",
       "  <thead>\n",
       "    <tr style=\"text-align: right;\">\n",
       "      <th></th>\n",
       "      <th>0</th>\n",
       "      <th>1</th>\n",
       "      <th>2</th>\n",
       "      <th>3</th>\n",
       "      <th>4</th>\n",
       "      <th>5</th>\n",
       "      <th>6</th>\n",
       "      <th>7</th>\n",
       "      <th>8</th>\n",
       "      <th>9</th>\n",
       "      <th>...</th>\n",
       "      <th>118</th>\n",
       "      <th>119</th>\n",
       "      <th>120</th>\n",
       "      <th>121</th>\n",
       "      <th>122</th>\n",
       "      <th>123</th>\n",
       "      <th>124</th>\n",
       "      <th>125</th>\n",
       "      <th>126</th>\n",
       "      <th>127</th>\n",
       "    </tr>\n",
       "  </thead>\n",
       "  <tbody>\n",
       "    <tr>\n",
       "      <th>0</th>\n",
       "      <td>0.075821</td>\n",
       "      <td>0.606573</td>\n",
       "      <td>0.016820</td>\n",
       "      <td>1.748084</td>\n",
       "      <td>0.373850</td>\n",
       "      <td>0.488610</td>\n",
       "      <td>-0.987244</td>\n",
       "      <td>-0.581527</td>\n",
       "      <td>1.179195</td>\n",
       "      <td>0.228671</td>\n",
       "      <td>...</td>\n",
       "      <td>0.011281</td>\n",
       "      <td>-1.215931</td>\n",
       "      <td>-0.069679</td>\n",
       "      <td>0.256787</td>\n",
       "      <td>0.908127</td>\n",
       "      <td>0.640685</td>\n",
       "      <td>-0.832860</td>\n",
       "      <td>-0.900140</td>\n",
       "      <td>0.624743</td>\n",
       "      <td>0.016150</td>\n",
       "    </tr>\n",
       "    <tr>\n",
       "      <th>1</th>\n",
       "      <td>0.448118</td>\n",
       "      <td>-0.195631</td>\n",
       "      <td>0.073487</td>\n",
       "      <td>1.514236</td>\n",
       "      <td>0.272957</td>\n",
       "      <td>-0.014527</td>\n",
       "      <td>0.073963</td>\n",
       "      <td>-0.360488</td>\n",
       "      <td>0.629624</td>\n",
       "      <td>0.647903</td>\n",
       "      <td>...</td>\n",
       "      <td>-0.175945</td>\n",
       "      <td>-1.573335</td>\n",
       "      <td>0.258876</td>\n",
       "      <td>0.546142</td>\n",
       "      <td>-0.396142</td>\n",
       "      <td>-0.590228</td>\n",
       "      <td>-0.044849</td>\n",
       "      <td>-1.396215</td>\n",
       "      <td>0.789826</td>\n",
       "      <td>-0.500126</td>\n",
       "    </tr>\n",
       "    <tr>\n",
       "      <th>2</th>\n",
       "      <td>-0.731779</td>\n",
       "      <td>-0.710765</td>\n",
       "      <td>1.350872</td>\n",
       "      <td>-0.363419</td>\n",
       "      <td>0.946535</td>\n",
       "      <td>0.403027</td>\n",
       "      <td>-0.053424</td>\n",
       "      <td>-1.800714</td>\n",
       "      <td>-0.308160</td>\n",
       "      <td>-1.074942</td>\n",
       "      <td>...</td>\n",
       "      <td>0.055141</td>\n",
       "      <td>-0.935350</td>\n",
       "      <td>0.217662</td>\n",
       "      <td>1.745616</td>\n",
       "      <td>-0.705720</td>\n",
       "      <td>0.028631</td>\n",
       "      <td>-0.910157</td>\n",
       "      <td>-1.675002</td>\n",
       "      <td>1.658085</td>\n",
       "      <td>-0.298109</td>\n",
       "    </tr>\n",
       "    <tr>\n",
       "      <th>3</th>\n",
       "      <td>0.396850</td>\n",
       "      <td>0.613532</td>\n",
       "      <td>0.124598</td>\n",
       "      <td>2.148331</td>\n",
       "      <td>-0.171681</td>\n",
       "      <td>1.211462</td>\n",
       "      <td>-1.383646</td>\n",
       "      <td>-0.495583</td>\n",
       "      <td>1.283045</td>\n",
       "      <td>0.442520</td>\n",
       "      <td>...</td>\n",
       "      <td>-0.126024</td>\n",
       "      <td>-0.675997</td>\n",
       "      <td>0.091399</td>\n",
       "      <td>0.529434</td>\n",
       "      <td>0.242320</td>\n",
       "      <td>-1.027671</td>\n",
       "      <td>-0.360377</td>\n",
       "      <td>-1.520260</td>\n",
       "      <td>1.077204</td>\n",
       "      <td>-0.614596</td>\n",
       "    </tr>\n",
       "    <tr>\n",
       "      <th>4</th>\n",
       "      <td>0.386541</td>\n",
       "      <td>1.171450</td>\n",
       "      <td>0.034682</td>\n",
       "      <td>1.752047</td>\n",
       "      <td>0.693385</td>\n",
       "      <td>0.459411</td>\n",
       "      <td>-0.575027</td>\n",
       "      <td>0.731775</td>\n",
       "      <td>0.158648</td>\n",
       "      <td>-0.202065</td>\n",
       "      <td>...</td>\n",
       "      <td>-0.406579</td>\n",
       "      <td>-1.469008</td>\n",
       "      <td>0.271545</td>\n",
       "      <td>-0.517344</td>\n",
       "      <td>0.192837</td>\n",
       "      <td>-0.022749</td>\n",
       "      <td>-0.915515</td>\n",
       "      <td>0.286142</td>\n",
       "      <td>1.344913</td>\n",
       "      <td>-0.115322</td>\n",
       "    </tr>\n",
       "  </tbody>\n",
       "</table>\n",
       "<p>5 rows × 128 columns</p>\n",
       "</div>"
      ],
      "text/plain": [
       "        0         1         2         3         4         5         6    \\\n",
       "0  0.075821  0.606573  0.016820  1.748084  0.373850  0.488610 -0.987244   \n",
       "1  0.448118 -0.195631  0.073487  1.514236  0.272957 -0.014527  0.073963   \n",
       "2 -0.731779 -0.710765  1.350872 -0.363419  0.946535  0.403027 -0.053424   \n",
       "3  0.396850  0.613532  0.124598  2.148331 -0.171681  1.211462 -1.383646   \n",
       "4  0.386541  1.171450  0.034682  1.752047  0.693385  0.459411 -0.575027   \n",
       "\n",
       "        7         8         9      ...          118       119       120  \\\n",
       "0 -0.581527  1.179195  0.228671    ...     0.011281 -1.215931 -0.069679   \n",
       "1 -0.360488  0.629624  0.647903    ...    -0.175945 -1.573335  0.258876   \n",
       "2 -1.800714 -0.308160 -1.074942    ...     0.055141 -0.935350  0.217662   \n",
       "3 -0.495583  1.283045  0.442520    ...    -0.126024 -0.675997  0.091399   \n",
       "4  0.731775  0.158648 -0.202065    ...    -0.406579 -1.469008  0.271545   \n",
       "\n",
       "        121       122       123       124       125       126       127  \n",
       "0  0.256787  0.908127  0.640685 -0.832860 -0.900140  0.624743  0.016150  \n",
       "1  0.546142 -0.396142 -0.590228 -0.044849 -1.396215  0.789826 -0.500126  \n",
       "2  1.745616 -0.705720  0.028631 -0.910157 -1.675002  1.658085 -0.298109  \n",
       "3  0.529434  0.242320 -1.027671 -0.360377 -1.520260  1.077204 -0.614596  \n",
       "4 -0.517344  0.192837 -0.022749 -0.915515  0.286142  1.344913 -0.115322  \n",
       "\n",
       "[5 rows x 128 columns]"
      ]
     },
     "execution_count": 64,
     "metadata": {},
     "output_type": "execute_result"
    }
   ],
   "source": [
    "# Parse documents and print some info\n",
    "print('Parsing documents...')\n",
    "\n",
    "start = time()\n",
    "\n",
    "train_vec = []\n",
    "for doc in nlp.pipe(upsampled['Sentence'], batch_size=500):\n",
    "    if doc.has_vector:\n",
    "        train_vec.append(doc.vector)\n",
    "    # If doc doesn't have a vector, then fill it with zeros.\n",
    "    else:\n",
    "        train_vec.append(np.zeros((128,), dtype=\"float32\"))\n",
    "        \n",
    "\n",
    "#sentences['sentence_vec'] = train_vec\n",
    "upsampled_vector = np.array(train_vec)\n",
    "end = time()\n",
    "print('Total time passed parsing documents: {} seconds'.format(end - start))\n",
    "print('Total number of documents parsed: {}'.format(len(train_vec)))\n",
    "\n",
    "print(upsampled_vector.shape)\n",
    "\n",
    "upsampled_vector_df = pd.DataFrame(upsampled_vector)\n",
    "upsampled_vector_df.head()"
   ]
  },
  {
   "cell_type": "code",
   "execution_count": 65,
   "metadata": {},
   "outputs": [
    {
     "name": "stdout",
     "output_type": "stream",
     "text": [
      "(24720, 128)\n"
     ]
    }
   ],
   "source": [
    "print(upsampled_vector.shape)"
   ]
  },
  {
   "cell_type": "code",
   "execution_count": 66,
   "metadata": {},
   "outputs": [],
   "source": [
    "X_train_authors, X_test_authors, y_train_authors, y_test_authors = train_test_split(upsampled_vector_df, hot_authors_upsampled, test_size=0.2)"
   ]
  },
  {
   "cell_type": "code",
   "execution_count": 67,
   "metadata": {
    "scrolled": true
   },
   "outputs": [
    {
     "name": "stderr",
     "output_type": "stream",
     "text": [
      "/usr/local/lib/python3.6/site-packages/ipykernel_launcher.py:1: DataConversionWarning: A column-vector y was passed when a 1d array was expected. Please change the shape of y to (n_samples,), for example using ravel().\n",
      "  \"\"\"Entry point for launching an IPython kernel.\n"
     ]
    },
    {
     "name": "stdout",
     "output_type": "stream",
     "text": [
      "Training set score: 0.9992415048543689\n",
      "\n",
      "Test set score: 0.9908980582524272\n"
     ]
    }
   ],
   "source": [
    "train_authors_upsampled = rfc.fit(X_train_authors, y_train_authors)\n",
    "\n",
    "print('Training set score:', rfc.score(X_train_authors, y_train_authors))\n",
    "print('\\nTest set score:', rfc.score(X_test_authors, y_test_authors))"
   ]
  },
  {
   "cell_type": "markdown",
   "metadata": {},
   "source": [
    "Much better!  After upsampling the minority class we got a much better score for the test set!  Now lets see if we can predict the books accurately."
   ]
  },
  {
   "cell_type": "code",
   "execution_count": 26,
   "metadata": {},
   "outputs": [],
   "source": [
    "X_train_books, X_test_books, y_train_books, y_test_books = train_test_split(vector_df, hot_books, test_size=0.2)"
   ]
  },
  {
   "cell_type": "code",
   "execution_count": 27,
   "metadata": {},
   "outputs": [
    {
     "name": "stdout",
     "output_type": "stream",
     "text": [
      "Training set score:  0.9427958526993206\n",
      "\n",
      "Trest set score:  0.48158741508759384\n"
     ]
    }
   ],
   "source": [
    "train_books = rfc.fit(X_train_books, y_train_books)\n",
    "\n",
    "print('Training set score: ', rfc.score(X_train_books, y_train_books))\n",
    "print('\\nTest set score: ', rfc.score(X_test_books, y_test_books))"
   ]
  },
  {
   "cell_type": "markdown",
   "metadata": {},
   "source": [
    "This isn't looking too good.  Let's see if we use the upsampled data from above if that will increase the score."
   ]
  },
  {
   "cell_type": "code",
   "execution_count": 68,
   "metadata": {},
   "outputs": [
    {
     "data": {
      "text/plain": [
       "Emma          8703\n",
       "Persuasion    3657\n",
       "Alice         1625\n",
       "Name: Text, dtype: int64"
      ]
     },
     "execution_count": 68,
     "metadata": {},
     "output_type": "execute_result"
    }
   ],
   "source": [
    "sentences.Text.value_counts()"
   ]
  },
  {
   "cell_type": "code",
   "execution_count": 69,
   "metadata": {},
   "outputs": [],
   "source": [
    "hot_books_upsampled = label_binarize(upsampled['Text'], classes=['Emma', 'Persuasion', 'Alice'])"
   ]
  },
  {
   "cell_type": "code",
   "execution_count": 70,
   "metadata": {},
   "outputs": [],
   "source": [
    "X_train_books, X_test_books, y_train_books, y_test_books = train_test_split(upsampled_vector_df, hot_books_upsampled, test_size=0.2)"
   ]
  },
  {
   "cell_type": "code",
   "execution_count": 71,
   "metadata": {},
   "outputs": [
    {
     "name": "stdout",
     "output_type": "stream",
     "text": [
      "Training set score:  0.982200647249191\n",
      "\n",
      "Test set score:  0.7497977346278317\n"
     ]
    }
   ],
   "source": [
    "train_books = rfc.fit(X_train_books, y_train_books)\n",
    "\n",
    "print('Training set score: ', rfc.score(X_train_books, y_train_books))\n",
    "print('\\nTest set score: ', rfc.score(X_test_books, y_test_books))"
   ]
  },
  {
   "cell_type": "markdown",
   "metadata": {},
   "source": [
    "It's performing much better, but still overfitting."
   ]
  },
  {
   "cell_type": "code",
   "execution_count": null,
   "metadata": {},
   "outputs": [],
   "source": []
  }
 ],
 "metadata": {
  "hide_input": false,
  "kernelspec": {
   "display_name": "Python 3",
   "language": "python",
   "name": "python3"
  },
  "language_info": {
   "codemirror_mode": {
    "name": "ipython",
    "version": 3
   },
   "file_extension": ".py",
   "mimetype": "text/x-python",
   "name": "python",
   "nbconvert_exporter": "python",
   "pygments_lexer": "ipython3",
   "version": "3.6.5"
  },
  "toc": {
   "colors": {
    "hover_highlight": "#DAA520",
    "running_highlight": "#FF0000",
    "selected_highlight": "#FFD700"
   },
   "moveMenuLeft": true,
   "nav_menu": {
    "height": "49px",
    "width": "252px"
   },
   "navigate_menu": true,
   "number_sections": true,
   "sideBar": true,
   "threshold": 4,
   "toc_cell": false,
   "toc_section_display": "block",
   "toc_window_display": false
  }
 },
 "nbformat": 4,
 "nbformat_minor": 2
}
